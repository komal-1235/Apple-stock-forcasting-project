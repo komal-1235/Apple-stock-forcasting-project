{
 "cells": [
  {
   "cell_type": "code",
   "execution_count": 71,
   "id": "224c79f2-09ff-4c99-b01f-17c89204695a",
   "metadata": {},
   "outputs": [],
   "source": [
    "import streamlit as st\n",
    "import pandas as pd\n",
    "import numpy as np\n",
    "from statsmodels.tsa.holtwinters import ExponentialSmoothing\n",
    "import pickle\n",
    "from sklearn.metrics import mean_absolute_error, mean_squared_error\n",
    "import matplotlib.pyplot as plt\n",
    "\n",
    "import warnings\n",
    "warnings.filterwarnings('ignore')"
   ]
  },
  {
   "cell_type": "code",
   "execution_count": 73,
   "id": "d527ab73-6140-43a8-9a43-02a828adbd42",
   "metadata": {},
   "outputs": [
    {
     "name": "stderr",
     "output_type": "stream",
     "text": [
      "2025-01-29 14:24:09.003 No runtime found, using MemoryCacheStorageManager\n"
     ]
    }
   ],
   "source": [
    "# Title of the App\n",
    "st.title(\"Apple Stock Price Prediction using Holt-Winter's Method\")\n",
    "\n",
    "# Sidebar for User Input\n",
    "st.sidebar.header(\"Input Parameters\")\n",
    "forecast_days = st.sidebar.slider(\"Number of Days to Forecast\", min_value=1, max_value=365, value=30)\n",
    "\n",
    "# Load data function\n",
    "@st.cache_data\n",
    "def load_data():\n",
    "    data = pd.read_csv(\"dataAAPL.csv\", parse_dates=[\"Date\"], index_col=\"Date\")\n",
    "    return data\n",
    "    "
   ]
  },
  {
   "cell_type": "code",
   "execution_count": 75,
   "id": "532326bd-057e-4727-8e78-7246bb18c0ac",
   "metadata": {},
   "outputs": [],
   "source": [
    "data = load_data()"
   ]
  },
  {
   "cell_type": "code",
   "execution_count": 77,
   "id": "c63d13e1-b098-4e67-9ce7-345ecf15275a",
   "metadata": {},
   "outputs": [
    {
     "data": {
      "text/plain": [
       "DeltaGenerator()"
      ]
     },
     "execution_count": 77,
     "metadata": {},
     "output_type": "execute_result"
    }
   ],
   "source": [
    "# Display Historical Data\n",
    "st.write(\"### Historical Stock Prices\")\n",
    "st.line_chart(data['Close'])"
   ]
  },
  {
   "cell_type": "code",
   "execution_count": 79,
   "id": "2554b6be-1e37-47a0-8b35-d437bfd9f190",
   "metadata": {},
   "outputs": [],
   "source": [
    "# Train the model \n",
    "if st.button(\"Train and Forecast\"):\n",
    "    try:\n",
    "        # Train Holt-Winters Model\n",
    "        model = ExponentialSmoothing(\n",
    "            data['Close_Diff'].dropna(),\n",
    "            trend ='add',\n",
    "            seasonal = 'add',\n",
    "            seasonal_periods = 12\n",
    "        )\n",
    "        model_fit = model.fit()\n",
    "\n",
    "        with open('holt_winters_model.pkl', 'wb') as file:\n",
    "            pickle.dump(model, file)\n",
    "\n",
    "        # Forecast Future Prices\n",
    "        forecast_values = model_fit.forecast(steps=forecast_days)\n",
    "\n",
    "        # Reverse Differencing to Original Scale\n",
    "        forecast_original_scale = forecast_values.cumsum() + data['Close'].iloc[-1]\n",
    "\n",
    "        # Create a dataframe with forecasted values\n",
    "        forecast_dates = pd.date_range(start=data.index[-1] + pd.Timedelta(days=1), periods=forecast_days)\n",
    "        forecast_original = pd.DataFrame({\n",
    "            'Date': forecast_dates,\n",
    "            'Forecast': forecast_original_scale\n",
    "        }).set_index('Date')\n",
    "\n",
    "        # Display forecast\n",
    "        st.write(\"### Forecasted Prices\")\n",
    "        st.write(forecast_original)\n",
    "\n",
    "        # plot historical and forecasted data\n",
    "        fig, ax = plt.subplots(figsize=(10,6))\n",
    "        ax.plot(data['Close'], label= \"Historical data\", color= \"blue\")\n",
    "        ax.plot(forecast_original.index, forecast_original['Forecast'], label=\"Forecasted Data\", color=\"orange\")\n",
    "        ax.set_title(\"Apple Stock Price Prediction\")\n",
    "        ax.set_xlabel(\"Date\")\n",
    "        ax.set_ylabel(\"Close Price\")\n",
    "        ax.legend()\n",
    "        st.pyplot(fig)\n",
    "\n",
    "        # Evaluate the Model\n",
    "        mae = mean_absolute_error(data['Close_Diff'].dropna(), model_fit.fittedvalues)\n",
    "        mse = mean_squared_error(data['Close_Diff'].dropna(), model_fit.fittedvalues)\n",
    "        rmse = np.sqrt(mse)\n",
    "       \n",
    "        st.write(\"### Model Evaluation Metrics\")\n",
    "        st.write(f\"Mean Absolute Error (MAE): {mae}\")\n",
    "        st.write(f\"Mean Squared Error (MSE): {mse}\")\n",
    "        st.write(f\"Root Mean Squared Error (RMSE): {rmse}\")\n",
    "        \n",
    "\n",
    "    except Exception as e:\n",
    "        st.error(f\"Error: {e}\")"
   ]
  },
  {
   "cell_type": "code",
   "execution_count": null,
   "id": "61b2c559-4b59-46b0-acfb-b38fd11e2cb5",
   "metadata": {},
   "outputs": [],
   "source": []
  }
 ],
 "metadata": {
  "kernelspec": {
   "display_name": "Python 3 (ipykernel)",
   "language": "python",
   "name": "python3"
  },
  "language_info": {
   "codemirror_mode": {
    "name": "ipython",
    "version": 3
   },
   "file_extension": ".py",
   "mimetype": "text/x-python",
   "name": "python",
   "nbconvert_exporter": "python",
   "pygments_lexer": "ipython3",
   "version": "3.12.4"
  }
 },
 "nbformat": 4,
 "nbformat_minor": 5
}
